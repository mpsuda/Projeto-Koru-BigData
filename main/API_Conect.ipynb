{
 "cells": [
  {
   "cell_type": "markdown",
   "id": "72bc0d93",
   "metadata": {},
   "source": [
    "# Conexão com API Olist\n",
    "\n",
    "## Documentação da conexão com o API kaggle.\n",
    "\n",
    "### Conexão feita em alguns passos simple como:\n",
    "1. Obter uma Chave API do kaggle:\n",
    "* FAça login na sua conta no kagle.\n",
    "* Aceese a pagina de configurações da sua conta: https://www.kaggle.com/account.\n",
    "* Procure a seção \"API\" e clique em \"Create New API Token\".\n",
    "* Será feito um dowload de um arquivo chamado 'kagle.json'.\n",
    "2. Instale a Biblioteca Kaggle:\n",
    "* No prompt de comando, execute o seguinte comando para instalar: pip install kaggle.\n",
    "3. Configure as credenciais do kaggle.\n",
    "* Coloque o arquivo \"kaggle.json\" que voce baixou no diretorio:'C:/Users/SeuNome/.kaggle/'.\n",
    "* O diretorio acima foi criado assim que voce instalou a biblioteca kaggle\n",
    "4. Utilizando o codigo abaixo voce pode usar a biblioteca kaggle para fazer a solicitação à API e baixar o dataset."
   ]
  },
  {
   "cell_type": "markdown",
   "metadata": {},
   "source": []
  },
  {
   "cell_type": "code",
   "execution_count": 2,
   "id": "99a44b29",
   "metadata": {},
   "outputs": [
    {
     "ename": "ModuleNotFoundError",
     "evalue": "No module named 'kaggle'",
     "output_type": "error",
     "traceback": [
      "\u001b[1;31m---------------------------------------------------------------------------\u001b[0m",
      "\u001b[1;31mModuleNotFoundError\u001b[0m                       Traceback (most recent call last)",
      "\u001b[1;32mc:\\Users\\crist\\OneDrive\\Documentos\\Engenharia de Dados Koru Ifood\\Projeto-Koru-BigData-1\\main\\API_Conect.ipynb Cell 3\u001b[0m line \u001b[0;36m2\n\u001b[0;32m      <a href='vscode-notebook-cell:/c%3A/Users/crist/OneDrive/Documentos/Engenharia%20de%20Dados%20Koru%20Ifood/Projeto-Koru-BigData-1/main/API_Conect.ipynb#W2sZmlsZQ%3D%3D?line=0'>1</a>\u001b[0m \u001b[39m# Importando a biblioteca kaggle\u001b[39;00m\n\u001b[1;32m----> <a href='vscode-notebook-cell:/c%3A/Users/crist/OneDrive/Documentos/Engenharia%20de%20Dados%20Koru%20Ifood/Projeto-Koru-BigData-1/main/API_Conect.ipynb#W2sZmlsZQ%3D%3D?line=1'>2</a>\u001b[0m \u001b[39mimport\u001b[39;00m \u001b[39mkaggle\u001b[39;00m\n\u001b[0;32m      <a href='vscode-notebook-cell:/c%3A/Users/crist/OneDrive/Documentos/Engenharia%20de%20Dados%20Koru%20Ifood/Projeto-Koru-BigData-1/main/API_Conect.ipynb#W2sZmlsZQ%3D%3D?line=3'>4</a>\u001b[0m \u001b[39m#Endereçamento do dataset\u001b[39;00m\n\u001b[0;32m      <a href='vscode-notebook-cell:/c%3A/Users/crist/OneDrive/Documentos/Engenharia%20de%20Dados%20Koru%20Ifood/Projeto-Koru-BigData-1/main/API_Conect.ipynb#W2sZmlsZQ%3D%3D?line=4'>5</a>\u001b[0m dataset_slug \u001b[39m=\u001b[39m \u001b[39m'\u001b[39m\u001b[39molistbr/brazilian-ecommerce\u001b[39m\u001b[39m'\u001b[39m\n",
      "\u001b[1;31mModuleNotFoundError\u001b[0m: No module named 'kaggle'"
     ]
    }
   ],
   "source": [
    "# Importando a biblioteca kaggle\n",
    "import kaggle\n",
    "\n",
    "#Endereçamento do dataset\n",
    "dataset_slug = 'olistbr/brazilian-ecommerce'\n",
    "# Nome do diretorio em que o dataset ficara salvo\n",
    "output_directory = 'DataSet_brazilian-ecommerce'\n",
    "\n",
    "# Usando a função 'kaggle.api.dataset_download_files' para baixar o dataset\n",
    "kaggle.api.dataset_download_files(dataset_slug, path=output_directory, unzip=True)"
   ]
  }
 ],
 "metadata": {
  "kernelspec": {
   "display_name": "Python 3 (ipykernel)",
   "language": "python",
   "name": "python3"
  },
  "language_info": {
   "codemirror_mode": {
    "name": "ipython",
    "version": 3
   },
   "file_extension": ".py",
   "mimetype": "text/x-python",
   "name": "python",
   "nbconvert_exporter": "python",
   "pygments_lexer": "ipython3",
   "version": "3.11.3"
  }
 },
 "nbformat": 4,
 "nbformat_minor": 5
}
