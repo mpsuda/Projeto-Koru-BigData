{
 "cells": [
  {
   "cell_type": "markdown",
   "metadata": {},
   "source": [
    "Importando e Lendo DataFrame Orders"
   ]
  },
  {
   "cell_type": "code",
   "execution_count": 2,
   "metadata": {},
   "outputs": [],
   "source": [
    "import pandas as pd\n",
    "\n",
    "caminho = 'DataSet_brazilian-ecommerce\\olist_orders_dataset.csv'\n",
    "\n",
    "df = pd.read_csv(caminho)"
   ]
  },
  {
   "cell_type": "markdown",
   "metadata": {},
   "source": [
    "Conferindo se há valores faltantes"
   ]
  },
  {
   "cell_type": "code",
   "execution_count": 3,
   "metadata": {},
   "outputs": [
    {
     "data": {
      "text/plain": [
       "order_id                         False\n",
       "customer_id                      False\n",
       "order_status                     False\n",
       "order_purchase_timestamp         False\n",
       "order_approved_at                 True\n",
       "order_delivered_carrier_date      True\n",
       "order_delivered_customer_date     True\n",
       "order_estimated_delivery_date    False\n",
       "dtype: bool"
      ]
     },
     "execution_count": 3,
     "metadata": {},
     "output_type": "execute_result"
    }
   ],
   "source": [
    "df.isna().any()"
   ]
  },
  {
   "cell_type": "markdown",
   "metadata": {},
   "source": [
    "Buscando quantidade de linhas e colunas"
   ]
  },
  {
   "cell_type": "code",
   "execution_count": 4,
   "metadata": {},
   "outputs": [
    {
     "data": {
      "text/plain": [
       "(99441, 8)"
      ]
     },
     "execution_count": 4,
     "metadata": {},
     "output_type": "execute_result"
    }
   ],
   "source": [
    "df.shape"
   ]
  },
  {
   "cell_type": "markdown",
   "metadata": {},
   "source": [
    "Verificando se há dados ausentes"
   ]
  },
  {
   "cell_type": "code",
   "execution_count": 5,
   "metadata": {},
   "outputs": [
    {
     "data": {
      "text/plain": [
       "order_id                            0\n",
       "customer_id                         0\n",
       "order_status                        0\n",
       "order_purchase_timestamp            0\n",
       "order_approved_at                 160\n",
       "order_delivered_carrier_date     1783\n",
       "order_delivered_customer_date    2965\n",
       "order_estimated_delivery_date       0\n",
       "dtype: int64"
      ]
     },
     "execution_count": 5,
     "metadata": {},
     "output_type": "execute_result"
    }
   ],
   "source": [
    "df.isna().sum()"
   ]
  },
  {
   "cell_type": "markdown",
   "metadata": {},
   "source": [
    "Conferir se há dados duplicados"
   ]
  },
  {
   "cell_type": "code",
   "execution_count": 6,
   "metadata": {},
   "outputs": [
    {
     "name": "stdout",
     "output_type": "stream",
     "text": [
      "0        False\n",
      "1        False\n",
      "2        False\n",
      "3        False\n",
      "4        False\n",
      "         ...  \n",
      "99436    False\n",
      "99437    False\n",
      "99438    False\n",
      "99439    False\n",
      "99440    False\n",
      "Length: 99441, dtype: bool\n"
     ]
    }
   ],
   "source": [
    "print(df.duplicated())"
   ]
  },
  {
   "cell_type": "markdown",
   "metadata": {},
   "source": [
    "Buscar linhas com dados vazios"
   ]
  },
  {
   "cell_type": "code",
   "execution_count": 7,
   "metadata": {},
   "outputs": [
    {
     "name": "stdout",
     "output_type": "stream",
     "text": [
      "                               order_id                       customer_id  \\\n",
      "6      136cce7faa42fdb2cefd53fdc79a6098  ed0271e0b7da060a393796590e7b737a   \n",
      "44     ee64d42b8cf066f35eac1cf57de1aa85  caded193e8e47b8362864762a83db3c5   \n",
      "103    0760a852e4e9d89eb77bf631eaaf1c84  d2a79636084590b7465af8ab374a8cf5   \n",
      "128    15bed8e2fec7fdbadb186b57c46c92f2  f3f0e613e0bdb9c7cee75504f0f90679   \n",
      "154    6942b8da583c2f9957e990d028607019  52006a9383bf149a4fb24226b173106f   \n",
      "...                                 ...                               ...   \n",
      "99283  3a3cddda5a7c27851bd96c3313412840  0b0d6095c5555fe083844281f6b093bb   \n",
      "99313  e9e64a17afa9653aacf2616d94c005b8  b4cd0522e632e481f8eaf766a2646e86   \n",
      "99347  a89abace0dcc01eeb267a9660b5ac126  2f0524a7b1b3845a1a57fcf3910c4333   \n",
      "99348  a69ba794cc7deb415c3e15a0a3877e69  726f0894b5becdf952ea537d5266e543   \n",
      "99415  5fabc81b6322c8443648e1b21a6fef21  32c9df889d41b0ee8309a5efb6855dcb   \n",
      "\n",
      "      order_status order_purchase_timestamp    order_approved_at  \\\n",
      "6         invoiced      2017-04-11 12:22:08  2017-04-13 13:25:17   \n",
      "44         shipped      2018-06-04 16:44:48  2018-06-05 04:31:18   \n",
      "103       invoiced      2018-08-03 17:44:42  2018-08-07 06:15:14   \n",
      "128     processing      2017-09-03 14:22:03  2017-09-03 14:30:09   \n",
      "154        shipped      2018-01-10 11:33:07  2018-01-11 02:32:30   \n",
      "...            ...                      ...                  ...   \n",
      "99283     canceled      2018-08-31 16:13:44                  NaN   \n",
      "99313   processing      2018-01-05 23:07:24  2018-01-09 07:18:05   \n",
      "99347     canceled      2018-09-06 18:45:47                  NaN   \n",
      "99348  unavailable      2017-08-23 16:28:04  2017-08-28 15:44:47   \n",
      "99415  unavailable      2017-10-10 10:50:03  2017-10-14 18:35:57   \n",
      "\n",
      "      order_delivered_carrier_date order_delivered_customer_date  \\\n",
      "6                              NaN                           NaN   \n",
      "44             2018-06-05 14:32:00                           NaN   \n",
      "103                            NaN                           NaN   \n",
      "128                            NaN                           NaN   \n",
      "154            2018-01-11 19:39:23                           NaN   \n",
      "...                            ...                           ...   \n",
      "99283                          NaN                           NaN   \n",
      "99313                          NaN                           NaN   \n",
      "99347                          NaN                           NaN   \n",
      "99348                          NaN                           NaN   \n",
      "99415                          NaN                           NaN   \n",
      "\n",
      "      order_estimated_delivery_date  \n",
      "6               2017-05-09 00:00:00  \n",
      "44              2018-06-28 00:00:00  \n",
      "103             2018-08-21 00:00:00  \n",
      "128             2017-10-03 00:00:00  \n",
      "154             2018-02-07 00:00:00  \n",
      "...                             ...  \n",
      "99283           2018-10-01 00:00:00  \n",
      "99313           2018-02-06 00:00:00  \n",
      "99347           2018-09-27 00:00:00  \n",
      "99348           2017-09-15 00:00:00  \n",
      "99415           2017-10-23 00:00:00  \n",
      "\n",
      "[2980 rows x 8 columns]\n"
     ]
    }
   ],
   "source": [
    "linhas_com_dados_vazios = df[df.isna().any(axis=1)]\n",
    "\n",
    "print(linhas_com_dados_vazios)"
   ]
  }
 ],
 "metadata": {
  "kernelspec": {
   "display_name": "Python 3",
   "language": "python",
   "name": "python3"
  },
  "language_info": {
   "codemirror_mode": {
    "name": "ipython",
    "version": 3
   },
   "file_extension": ".py",
   "mimetype": "text/x-python",
   "name": "python",
   "nbconvert_exporter": "python",
   "pygments_lexer": "ipython3",
   "version": "3.11.3"
  }
 },
 "nbformat": 4,
 "nbformat_minor": 2
}
